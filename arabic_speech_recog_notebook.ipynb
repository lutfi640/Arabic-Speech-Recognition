{
 "cells": [
  {
   "cell_type": "markdown",
   "metadata": {},
   "source": [
    "#### Importing necessary libraries"
   ]
  },
  {
   "cell_type": "code",
   "execution_count": 3,
   "metadata": {},
   "outputs": [],
   "source": [
    "import numpy as np\n",
    "import tensorflow as tf\n",
    "from tensorflow import keras\n",
    "from pathlib import Path\n",
    "from scipy.io import wavfile\n",
    "import python_speech_features\n",
    "from tqdm import tqdm\n",
    "from sklearn.model_selection import train_test_split\n",
    "from sklearn.metrics import confusion_matrix\n",
    "from livelossplot import PlotLossesKeras\n",
    "import sounddevice as sd\n",
    "%matplotlib inline\n",
    "import matplotlib.pyplot as plt\n",
    "from datetime import datetime\n",
    "from scipy.signal import butter, sosfilt\n",
    "from timeit import default_timer as timer\n",
    "from IPython.display import clear_output"
   ]
  },
  {
   "cell_type": "markdown",
   "metadata": {},
   "source": [
    "#### Enabling config proto to make GPU working"
   ]
  },
  {
   "cell_type": "markdown",
   "metadata": {},
   "source": [
    "But if you working this on Google Colab and your GPU is just fine, you do not have to run this"
   ]
  },
  {
   "cell_type": "code",
   "execution_count": 4,
   "metadata": {},
   "outputs": [],
   "source": [
    "from tensorflow.compat.v1 import ConfigProto\n",
    "from tensorflow.compat.v1 import InteractiveSession\n",
    "\n",
    "config = ConfigProto()\n",
    "config.gpu_options.allow_growth = True\n",
    "session = InteractiveSession(config=config)"
   ]
  },
  {
   "cell_type": "markdown",
   "metadata": {},
   "source": [
    "#### Preprocessing"
   ]
  },
  {
   "cell_type": "markdown",
   "metadata": {},
   "source": [
    "##### Create classes that we want to use (I'm not using all class in the terms of increasing accuracy)"
   ]
  },
  {
   "cell_type": "markdown",
   "metadata": {},
   "source": [
    "If you have better dataset than mine that only had about 300 audio recordings at each class, you don't have to hesitate to use only half of them. Use them all.\n",
    "\n",
    "I got the dataset from https://zenodo.org/record/4662481#.YkVMqZlBxEY made by Abdul Kadir Ghandoura which have these characteristic :\n",
    "1. 16000 Hz Sampling Rate\n",
    "2. Has 40 class (folder) x 30 people x 10 utterance = 12000 data\n",
    "3. Duration of every audio is 1 sec\n",
    "4. The modulation format is PCM signed 16-bit little-endian\n",
    "5. Bitrate 256kbps\n",
    "6. Mono channel\n"
   ]
  },
  {
   "cell_type": "code",
   "execution_count": 5,
   "metadata": {},
   "outputs": [],
   "source": [
    "#arabic\n",
    "word2index = {\n",
    "    # core words\n",
    "    \"zero\": 0,\n",
    "    \"one\": 1,\n",
    "    \"two\": 2,\n",
    "    \"three\": 3,\n",
    "    \"four\": 4,\n",
    "    \"five\": 5,\n",
    "    \"six\": 6,\n",
    "    \"seven\": 7,\n",
    "    \"eight\": 8,\n",
    "    \"nine\": 9,\n",
    "    \"open\": 10,\n",
    "    \"close\": 11,\n",
    "    \"digit\": 12,\n",
    "    \"start\": 13,\n",
    "    \"stop\": 14,\n",
    "    \"yes\": 15,\n",
    "    \"no\": 16,\n",
    "    \"up\": 17,\n",
    "    \"down\": 18,\n",
    "    \"move\": 19,\n",
    "}\n",
    "\n",
    "index2word = [word for word in word2index]"
   ]
  },
  {
   "cell_type": "markdown",
   "metadata": {},
   "source": [
    "Appending sample (the audio) and its label to a variable so in the next step we can calculate their MFCC."
   ]
  },
  {
   "cell_type": "code",
   "execution_count": 6,
   "metadata": {},
   "outputs": [
    {
     "name": "stdout",
     "output_type": "stream",
     "text": [
      "loading dataset...\n"
     ]
    },
    {
     "name": "stderr",
     "output_type": "stream",
     "text": [
      "100%|██████████| 6000/6000 [00:00<00:00, 42453.62it/s]\n"
     ]
    }
   ],
   "source": [
    "num_classes = len(word2index)\n",
    "num_samples_per_class = 300\n",
    "speech_commands_dataset_basepath = Path(r\"D:\\AtlantisSeeker-UIN\\Skripsi Imam\\Arabic Speech Recognition\\data\\dataset\")\n",
    "# speech_commands_dataset_basepath = Path(r\"D:\\AtlantisSeeker-UIN\\Skripsi Imam\\Sandbox\\Shawn Hymel\\tflite-speech-recognition-master\\dataset\")\n",
    "print(\"loading dataset...\")\n",
    "samples = []\n",
    "classes =  []\n",
    "with tqdm(total=num_samples_per_class*20) as pbar:\n",
    "    for word_class in word2index:\n",
    "        folder = speech_commands_dataset_basepath / word_class # sub-folder for each word\n",
    "        count = 0\n",
    "        for file in folder.iterdir(): # iterate over all files in the folder\n",
    "            # somehow, there are samples which aren't exactly 1 s long in the dataset. ignore those\n",
    "            if file.stat().st_size == 32044:\n",
    "                samples.append(file) # store path of sample file\n",
    "                classes.append(word2index[word_class]) # append word class index to list\n",
    "                count +=1\n",
    "                pbar.update()\n",
    "            if count >= num_samples_per_class:\n",
    "                break\n",
    "classes = np.array(classes, dtype=np.int)"
   ]
  },
  {
   "cell_type": "markdown",
   "metadata": {},
   "source": [
    "Next, we create a function to calculate MFCC features using library python_peech_features. We create 2 function that actually is the same thing to do the calculation of the MFCC, but the difference is the parameter that accepted by the function is the audio (float) and the other one is the location of the audio (string)."
   ]
  },
  {
   "cell_type": "code",
   "execution_count": 7,
   "metadata": {},
   "outputs": [],
   "source": [
    "# compute MFCC features from audio signal\n",
    "def audio2feature(audio):\n",
    "    audio = audio.astype(np.float)\n",
    "    # normalize data\n",
    "    audio -= audio.mean()\n",
    "    audio /= np.max((audio.max(), -audio.min()))\n",
    "    # compute MFCC coefficients\n",
    "    features = python_speech_features.mfcc(audio, samplerate=16000, winlen=0.025, winstep=0.01, numcep=20, nfilt=40, nfft=512, lowfreq=100, highfreq=None, preemph=0.97, ceplifter=22, appendEnergy=True, winfunc=np.hamming)\n",
    "    return features\n",
    "\n",
    "# load .wav-file, add some noise and compute MFCC features\n",
    "def wav2feature(filepath):\n",
    "    samplerate, data = wavfile.read(filepath)\n",
    "    data = data.astype(np.float)\n",
    "    # normalize data\n",
    "    data -= data.mean()\n",
    "    data /= np.max((data.max(), -data.min()))\n",
    "    # add gaussian noise\n",
    "    data += np.random.normal(loc=0.0, scale=0.025, size=data.shape)\n",
    "    # compute MFCC coefficients\n",
    "    features = python_speech_features.mfcc(data, samplerate=16000, winlen=0.025, winstep=0.01, numcep=20, nfilt=40, nfft=512, lowfreq=100, highfreq=None, preemph=0.97, ceplifter=22, appendEnergy=True, winfunc=np.hamming)\n",
    "    return features"
   ]
  },
  {
   "cell_type": "markdown",
   "metadata": {},
   "source": [
    "After that we call the previous function and start to call the function using loop, and store the calculated feature on variable called features."
   ]
  },
  {
   "cell_type": "code",
   "execution_count": 14,
   "metadata": {},
   "outputs": [
    {
     "name": "stdout",
     "output_type": "stream",
     "text": [
      "features.shape (6000, 99, 20)\n",
      "pre-computing features from audio files...\n"
     ]
    },
    {
     "name": "stderr",
     "output_type": "stream",
     "text": [
      "100%|██████████| 6000/6000 [00:16<00:00, 372.67it/s]\n"
     ]
    }
   ],
   "source": [
    "feature_shape = wav2feature(samples[0]).shape\n",
    "features = np.empty((num_classes*num_samples_per_class, )+(feature_shape), dtype=np.float)\n",
    "print(\"features.shape\", features.shape)\n",
    "\n",
    "print(\"pre-computing features from audio files...\")\n",
    "with tqdm(total=num_samples_per_class*num_classes) as pbar:\n",
    "    for k, sample in enumerate(samples):\n",
    "        features[k] = wav2feature(sample)\n",
    "        pbar.update()"
   ]
  },
  {
   "cell_type": "markdown",
   "metadata": {},
   "source": [
    "This is the shape of the feature. 99 is the amount of the MFCC and 20 is the number of class."
   ]
  },
  {
   "cell_type": "code",
   "execution_count": 15,
   "metadata": {},
   "outputs": [
    {
     "data": {
      "text/plain": [
       "(99, 20)"
      ]
     },
     "execution_count": 15,
     "metadata": {},
     "output_type": "execute_result"
    }
   ],
   "source": [
    "feature_shape"
   ]
  },
  {
   "cell_type": "markdown",
   "metadata": {},
   "source": [
    "After that save the calculated feature so we don't have to start over again"
   ]
  },
  {
   "cell_type": "code",
   "execution_count": 16,
   "metadata": {},
   "outputs": [],
   "source": [
    "# save computed features and classes to hard drive\n",
    "np.save(\"mfcc_plus_energy_features_6000x99x20_arab\", features)\n",
    "np.save(\"classes\", np.array(classes, dtype=np.int))"
   ]
  },
  {
   "cell_type": "code",
   "execution_count": 8,
   "metadata": {},
   "outputs": [],
   "source": [
    "# load pre-computed training features dataset and training class labels\n",
    "features = np.load(\"mfcc_plus_energy_features_6000x99x20_arab.npy\")\n",
    "classes = np.load(\"classes.npy\")"
   ]
  },
  {
   "cell_type": "markdown",
   "metadata": {},
   "source": [
    "And then we split the training and testing data using train_test_split from scikit-learn"
   ]
  },
  {
   "cell_type": "code",
   "execution_count": 9,
   "metadata": {},
   "outputs": [],
   "source": [
    "train_data, validation_data, train_classes, validation_classes = train_test_split(features, classes,\n",
    "                                                                      test_size=0.30, random_state=42, shuffle=True)"
   ]
  },
  {
   "cell_type": "markdown",
   "metadata": {},
   "source": [
    "## Model with SGD"
   ]
  },
  {
   "cell_type": "markdown",
   "metadata": {},
   "source": [
    "And now the core part, this is how the model architecture created by using convolutional 1 dimension using tensorflow. Followed by max pooling and some dropout layer.\n",
    "\n",
    "And so on, create the compiler and make sure first use stochastic gradient descent optimizers."
   ]
  },
  {
   "cell_type": "code",
   "execution_count": 10,
   "metadata": {},
   "outputs": [
    {
     "name": "stdout",
     "output_type": "stream",
     "text": [
      "Model: \"sequential\"\n",
      "_________________________________________________________________\n",
      "Layer (type)                 Output Shape              Param #   \n",
      "=================================================================\n",
      "conv1d (Conv1D)              (None, 97, 32)            1952      \n",
      "_________________________________________________________________\n",
      "conv1d_1 (Conv1D)            (None, 95, 32)            3104      \n",
      "_________________________________________________________________\n",
      "max_pooling1d (MaxPooling1D) (None, 31, 32)            0         \n",
      "_________________________________________________________________\n",
      "batch_normalization (BatchNo (None, 31, 32)            128       \n",
      "_________________________________________________________________\n",
      "dropout (Dropout)            (None, 31, 32)            0         \n",
      "_________________________________________________________________\n",
      "conv1d_2 (Conv1D)            (None, 29, 64)            6208      \n",
      "_________________________________________________________________\n",
      "conv1d_3 (Conv1D)            (None, 27, 64)            12352     \n",
      "_________________________________________________________________\n",
      "max_pooling1d_1 (MaxPooling1 (None, 9, 64)             0         \n",
      "_________________________________________________________________\n",
      "batch_normalization_1 (Batch (None, 9, 64)             256       \n",
      "_________________________________________________________________\n",
      "dropout_1 (Dropout)          (None, 9, 64)             0         \n",
      "_________________________________________________________________\n",
      "conv1d_4 (Conv1D)            (None, 5, 128)            41088     \n",
      "_________________________________________________________________\n",
      "global_max_pooling1d (Global (None, 128)               0         \n",
      "_________________________________________________________________\n",
      "dense (Dense)                (None, 256)               33024     \n",
      "_________________________________________________________________\n",
      "dense_1 (Dense)              (None, 128)               32896     \n",
      "_________________________________________________________________\n",
      "dense_2 (Dense)              (None, 20)                2580      \n",
      "=================================================================\n",
      "Total params: 133,588\n",
      "Trainable params: 133,396\n",
      "Non-trainable params: 192\n",
      "_________________________________________________________________\n"
     ]
    }
   ],
   "source": [
    "keras.backend.clear_session() # clear previous model (if cell is executed more than once)\n",
    "\n",
    "### CNN MODEL DEFINITION ###\n",
    "model = keras.models.Sequential()\n",
    "\n",
    "model.add(tf.keras.layers.Input(shape=(99, 20)))\n",
    "\n",
    "model.add(tf.keras.layers.Conv1D(32, kernel_size=3, activation=\"relu\"))\n",
    "model.add(tf.keras.layers.Conv1D(32, kernel_size=3, activation=\"relu\"))\n",
    "model.add(tf.keras.layers.MaxPooling1D(pool_size=3))\n",
    "model.add(tf.keras.layers.BatchNormalization())\n",
    "model.add(tf.keras.layers.Dropout(0.4))\n",
    "\n",
    "model.add(tf.keras.layers.Conv1D(64, kernel_size=3, activation=\"relu\"))\n",
    "model.add(tf.keras.layers.Conv1D(64, kernel_size=3, activation=\"relu\"))\n",
    "model.add(tf.keras.layers.MaxPooling1D(pool_size=3))\n",
    "model.add(tf.keras.layers.BatchNormalization())\n",
    "model.add(tf.keras.layers.Dropout(0.4))\n",
    "\n",
    "model.add(tf.keras.layers.Conv1D(128, kernel_size=5, activation=\"relu\"))\n",
    "model.add(tf.keras.layers.GlobalMaxPooling1D())\n",
    "\n",
    "model.add(tf.keras.layers.Dense(256, activation=\"relu\"))\n",
    "\n",
    "model.add(tf.keras.layers.Dense(128, activation=\"relu\"))\n",
    "\n",
    "model.add(tf.keras.layers.Dense(num_classes, activation='softmax'))\n",
    "\n",
    "\n",
    "# print model architecture\n",
    "model.summary()"
   ]
  },
  {
   "cell_type": "code",
   "execution_count": 11,
   "metadata": {},
   "outputs": [],
   "source": [
    "sgd = keras.optimizers.SGD()\n",
    "loss_fn = keras.losses.SparseCategoricalCrossentropy() # use Sparse because classes are represented as integers not as one-hot encoding\n",
    "\n",
    "model.compile(optimizer=sgd, loss=loss_fn, metrics=[\"accuracy\"])"
   ]
  },
  {
   "cell_type": "code",
   "execution_count": 12,
   "metadata": {},
   "outputs": [
    {
     "data": {
      "image/png": "[encoded data removed]",
      "text/plain": [
       "<Figure size 864x576 with 2 Axes>"
      ]
     },
     "metadata": {
      "needs_background": "light"
     },
     "output_type": "display_data"
    },
    {
     "name": "stdout",
     "output_type": "stream",
     "text": [
      "accuracy\n",
      "\ttraining         \t (min:    0.137, max:    0.956, cur:    0.956)\n",
      "\tvalidation       \t (min:    0.267, max:    0.973, cur:    0.972)\n",
      "Loss\n",
      "\ttraining         \t (min:    0.123, max:    2.808, cur:    0.127)\n",
      "\tvalidation       \t (min:    0.087, max:    2.505, cur:    0.097)\n",
      "4200/4200 [==============================] - 1s 251us/sample - loss: 0.1270 - accuracy: 0.9562 - val_loss: 0.0972 - val_accuracy: 0.9717\n"
     ]
    }
   ],
   "source": [
    "early_stopping = tf.keras.callbacks.EarlyStopping(monitor=\"val_accuracy\", patience=5, restore_best_weights=True)\n",
    "plt.close()\n",
    "\n",
    "history = model.fit(train_data, \n",
    "                    train_classes, \n",
    "                    batch_size=32, \n",
    "                    epochs=100, \n",
    "                    validation_data=(validation_data, validation_classes),\n",
    "                    callbacks=[PlotLossesKeras(), early_stopping])"
   ]
  },
  {
   "cell_type": "markdown",
   "metadata": {},
   "source": [
    "## Model with Adam"
   ]
  },
  {
   "cell_type": "markdown",
   "metadata": {},
   "source": [
    "The second model is actually just the same, the difference is the optimizer using Adam"
   ]
  },
  {
   "cell_type": "code",
   "execution_count": 13,
   "metadata": {},
   "outputs": [
    {
     "name": "stdout",
     "output_type": "stream",
     "text": [
      "Model: \"sequential\"\n",
      "_________________________________________________________________\n",
      "Layer (type)                 Output Shape              Param #   \n",
      "=================================================================\n",
      "conv1d (Conv1D)              (None, 97, 32)            1952      \n",
      "_________________________________________________________________\n",
      "conv1d_1 (Conv1D)            (None, 95, 32)            3104      \n",
      "_________________________________________________________________\n",
      "max_pooling1d (MaxPooling1D) (None, 31, 32)            0         \n",
      "_________________________________________________________________\n",
      "batch_normalization (BatchNo (None, 31, 32)            128       \n",
      "_________________________________________________________________\n",
      "dropout (Dropout)            (None, 31, 32)            0         \n",
      "_________________________________________________________________\n",
      "conv1d_2 (Conv1D)            (None, 29, 64)            6208      \n",
      "_________________________________________________________________\n",
      "conv1d_3 (Conv1D)            (None, 27, 64)            12352     \n",
      "_________________________________________________________________\n",
      "max_pooling1d_1 (MaxPooling1 (None, 9, 64)             0         \n",
      "_________________________________________________________________\n",
      "batch_normalization_1 (Batch (None, 9, 64)             256       \n",
      "_________________________________________________________________\n",
      "dropout_1 (Dropout)          (None, 9, 64)             0         \n",
      "_________________________________________________________________\n",
      "conv1d_4 (Conv1D)            (None, 5, 128)            41088     \n",
      "_________________________________________________________________\n",
      "global_max_pooling1d (Global (None, 128)               0         \n",
      "_________________________________________________________________\n",
      "dense (Dense)                (None, 256)               33024     \n",
      "_________________________________________________________________\n",
      "dense_1 (Dense)              (None, 128)               32896     \n",
      "_________________________________________________________________\n",
      "dense_2 (Dense)              (None, 20)                2580      \n",
      "=================================================================\n",
      "Total params: 133,588\n",
      "Trainable params: 133,396\n",
      "Non-trainable params: 192\n",
      "_________________________________________________________________\n"
     ]
    }
   ],
   "source": [
    "keras.backend.clear_session() # clear previous model (if cell is executed more than once)\n",
    "\n",
    "### CNN MODEL DEFINITION ###\n",
    "model1 = keras.models.Sequential()\n",
    "\n",
    "model1.add(tf.keras.layers.Input(shape=(99, 20)))\n",
    "\n",
    "model1.add(tf.keras.layers.Conv1D(32, kernel_size=3, activation=\"relu\"))\n",
    "model1.add(tf.keras.layers.Conv1D(32, kernel_size=3, activation=\"relu\"))\n",
    "model1.add(tf.keras.layers.MaxPooling1D(pool_size=3))\n",
    "model1.add(tf.keras.layers.BatchNormalization())\n",
    "model1.add(tf.keras.layers.Dropout(0.4))\n",
    "\n",
    "model1.add(tf.keras.layers.Conv1D(64, kernel_size=3, activation=\"relu\"))\n",
    "model1.add(tf.keras.layers.Conv1D(64, kernel_size=3, activation=\"relu\"))\n",
    "model1.add(tf.keras.layers.MaxPooling1D(pool_size=3))\n",
    "model1.add(tf.keras.layers.BatchNormalization())\n",
    "model1.add(tf.keras.layers.Dropout(0.4))\n",
    "\n",
    "model1.add(tf.keras.layers.Conv1D(128, kernel_size=5, activation=\"relu\"))\n",
    "model1.add(tf.keras.layers.GlobalMaxPooling1D())\n",
    "\n",
    "model1.add(tf.keras.layers.Dense(256, activation=\"relu\"))\n",
    "\n",
    "model1.add(tf.keras.layers.Dense(128, activation=\"relu\"))\n",
    "\n",
    "model1.add(tf.keras.layers.Dense(num_classes, activation='softmax'))\n",
    "\n",
    "\n",
    "# print model architecture\n",
    "model1.summary()"
   ]
  },
  {
   "cell_type": "code",
   "execution_count": 14,
   "metadata": {},
   "outputs": [],
   "source": [
    "adam = keras.optimizers.Adam()\n",
    "loss_fn = keras.losses.SparseCategoricalCrossentropy() # use Sparse because classes are represented as integers not as one-hot encoding\n",
    "\n",
    "model1.compile(optimizer=adam, loss=loss_fn, metrics=[\"accuracy\"])"
   ]
  },
  {
   "cell_type": "code",
   "execution_count": 15,
   "metadata": {},
   "outputs": [
    {
     "data": {
      "image/png": "[encoded data removed]",
      "text/plain": [
       "<Figure size 864x576 with 2 Axes>"
      ]
     },
     "metadata": {
      "needs_background": "light"
     },
     "output_type": "display_data"
    },
    {
     "name": "stdout",
     "output_type": "stream",
     "text": [
      "accuracy\n",
      "\ttraining         \t (min:    0.343, max:    0.971, cur:    0.968)\n",
      "\tvalidation       \t (min:    0.674, max:    0.978, cur:    0.978)\n",
      "Loss\n",
      "\ttraining         \t (min:    0.092, max:    2.090, cur:    0.092)\n",
      "\tvalidation       \t (min:    0.067, max:    1.009, cur:    0.067)\n",
      "4200/4200 [==============================] - 1s 264us/sample - loss: 0.0917 - accuracy: 0.9676 - val_loss: 0.0672 - val_accuracy: 0.9778\n"
     ]
    }
   ],
   "source": [
    "early_stopping = tf.keras.callbacks.EarlyStopping(monitor=\"val_accuracy\", patience=5, restore_best_weights=True)\n",
    "plt.close()\n",
    "\n",
    "history = model1.fit(train_data, \n",
    "                    train_classes, \n",
    "                    batch_size=32, \n",
    "                    epochs=100, \n",
    "                    validation_data=(validation_data, validation_classes),\n",
    "                    callbacks=[PlotLossesKeras(), early_stopping])"
   ]
  },
  {
   "cell_type": "markdown",
   "metadata": {},
   "source": [
    "As we can see, during the training, the losses decrease and the accuracy increases.\n",
    "After training, we can save our model for later use if we want to."
   ]
  },
  {
   "cell_type": "code",
   "execution_count": 17,
   "metadata": {},
   "outputs": [],
   "source": [
    "# save model\n",
    "model1.save(\"Saved_Model_arab.h5\")"
   ]
  },
  {
   "cell_type": "code",
   "execution_count": 18,
   "metadata": {},
   "outputs": [],
   "source": [
    "# load model\n",
    "model1 = keras.models.load_model(\"Saved_Model_arab.h5\")"
   ]
  },
  {
   "cell_type": "markdown",
   "metadata": {},
   "source": [
    "To see the full correlation based on the predicted true positive on the test set, we can easily measured it by using confusion matrix using pyplot library. "
   ]
  },
  {
   "cell_type": "code",
   "execution_count": 19,
   "metadata": {},
   "outputs": [
    {
     "data": {
      "image/png": "[encoded data removed]",
      "text/plain": [
       "<Figure size 576x576 with 2 Axes>"
      ]
     },
     "metadata": {
      "needs_background": "light"
     },
     "output_type": "display_data"
    }
   ],
   "source": [
    "# plot confusion matrix\n",
    "y = np.argmax(model.predict(validation_data), axis=1)\n",
    "cm = confusion_matrix(validation_classes, y,  normalize=\"all\")\n",
    "%matplotlib inline\n",
    "plt.close()\n",
    "plt.figure(figsize = (8,8))\n",
    "plt.imshow(cm, cmap=plt.cm.Blues)\n",
    "plt.xlabel(\"Predicted labels\")\n",
    "plt.ylabel(\"True labels\")\n",
    "plt.xticks(np.arange(0, 20, 1), index2word, rotation=90)\n",
    "plt.yticks(np.arange(0, 20, 1), index2word)\n",
    "plt.tick_params(labelsize=12)\n",
    "plt.title('Confusion matrix ')\n",
    "plt.colorbar()\n",
    "plt.show()"
   ]
  },
  {
   "cell_type": "markdown",
   "metadata": {},
   "source": [
    "down below is code to test our model by recording our voice and start predicting on it."
   ]
  },
  {
   "cell_type": "code",
   "execution_count": 20,
   "metadata": {},
   "outputs": [],
   "source": [
    "def extract_loudest_section(audio, length):\n",
    "    audio = audio[:, 0].astype(np.float) # to avoid integer overflow when squaring\n",
    "    audio_pw = audio**2 # power\n",
    "    window = np.ones((length, ))\n",
    "    conv = np.convolve(audio_pw, window, mode=\"valid\")\n",
    "    begin_index = conv.argmax()\n",
    "    return audio[begin_index:begin_index+length]"
   ]
  },
  {
   "cell_type": "markdown",
   "metadata": {},
   "source": [
    "Testing number 1 :\n",
    "After running the cell, immidiately speak the word on the wordlist no longer than 2 seconds "
   ]
  },
  {
   "cell_type": "code",
   "execution_count": 28,
   "metadata": {
    "scrolled": false
   },
   "outputs": [
    {
     "name": "stdout",
     "output_type": "stream",
     "text": [
      "[1.5694743e-04 5.6650531e-02 3.8266106e-04 1.2018684e-07 1.9620946e-03\n",
      " 9.8005512e-05 5.0074833e-09 4.4776494e-05 2.4336037e-05 2.9937719e-05\n",
      " 6.7740613e-10 5.5511850e-07 6.9979966e-01 3.4362752e-10 1.3040138e-02\n",
      " 1.4190403e-01 1.1915791e-06 8.5000806e-02 1.3613427e-06 9.0290309e-04]\n",
      "candidates:\n",
      "-----------------------------\n",
      "1.)\tdigit\t:\t70.0%\n",
      "2.)\tyes\t:\t14.2%\n",
      "3.)\tup\t:\t8.5%\n",
      "-----------------------------\n",
      "feature computation time: 2.2 ms\n",
      "CNN model prediction time: 66.4 ms\n",
      "total time: 68.5 ms\n"
     ]
    },
    {
     "data": {
      "image/png": "[encoded data removed]",
      "text/plain": [
       "<Figure size 720x504 with 2 Axes>"
      ]
     },
     "metadata": {
      "needs_background": "light"
     },
     "output_type": "display_data"
    }
   ],
   "source": [
    "sd.default.samplerate = 16000\n",
    "sd.default.channels = 1, 2 # mono record, stereo playback\n",
    "\n",
    "\n",
    "recording = sd.rec(int(3*sd.default.samplerate), channels=1, samplerate=sd.default.samplerate, dtype=np.float, blocking=True)\n",
    "recording = extract_loudest_section(recording, int(1*sd.default.samplerate)) # extract 1s snippet with highest energy (only necessary if recording is >3s long)\n",
    "sd.play(recording, blocking=True)\n",
    "\n",
    "t1 = timer()\n",
    "recorded_feature = audio2feature(recording)\n",
    "t2 = timer()\n",
    "recorded_feature = np.expand_dims(recorded_feature, 0) # add \"fake\" batch dimension 1\n",
    "prediction = model.predict(recorded_feature).reshape((20, ))\n",
    "print(model.predict(recorded_feature).reshape((20, )))\n",
    "t3 = timer()\n",
    "# normalize prediction output to get \"probabilities\"\n",
    "prediction /= prediction.sum()\n",
    "\n",
    "# print the 3 candidates with highest probability\n",
    "prediction_sorted_indices = prediction.argsort()\n",
    "print(\"candidates:\\n-----------------------------\")\n",
    "for k in range(3):\n",
    "    i = int(prediction_sorted_indices[-1-k])\n",
    "    print(\"%d.)\\t%s\\t:\\t%2.1f%%\" % (k+1, index2word[i], prediction[i]*100))\n",
    "print(\"-----------------------------\")\n",
    "print(\"feature computation time: %2.1f ms\" % ((t2-t1)*1e3))\n",
    "print(\"CNN model prediction time: %2.1f ms\" % ((t3-t2)*1e3))\n",
    "print(\"total time: %2.1f ms\" % ((t3-t1)*1e3))\n",
    "\n",
    "plt.close()\n",
    "plt.figure(1, figsize=(10, 7))\n",
    "plt.subplot(211)\n",
    "plt.plot(recording)\n",
    "plt.subplot(212)\n",
    "plt.imshow(recorded_feature.reshape(99, 20).T, aspect=\"auto\")\n",
    "plt.show()"
   ]
  },
  {
   "cell_type": "markdown",
   "metadata": {},
   "source": [
    "Testing number 2 :\n",
    "After running the cell, it will automatically predict voice in real time."
   ]
  },
  {
   "cell_type": "code",
   "execution_count": 29,
   "metadata": {},
   "outputs": [],
   "source": [
    "audio_buffer = np.zeros((5, 3200))\n",
    "last_recognized_word = None\n",
    "last_recognition_time = 0\n",
    "recognition_timeout = 1.0\n",
    "\n",
    "def audio_stream_callback(indata, frames, time, status):\n",
    "    global audio_buffer\n",
    "    global model\n",
    "    global index2word\n",
    "    global last_recognized_word\n",
    "    global last_recognition_time\n",
    "    audio_buffer = np.roll(audio_buffer, shift=-1, axis=0)\n",
    "    audio_buffer[-1, :] = np.squeeze(indata)\n",
    "    t1 = timer()\n",
    "    recorded_feature = audio2feature(audio_buffer.flatten())\n",
    "    recorded_feature = np.expand_dims(recorded_feature, 0) # add \"fake\" batch dimension 1\n",
    "    t2 = timer()\n",
    "    prediction = model.predict(recorded_feature).reshape((20, ))\n",
    "    # normalize prediction output to get \"probabilities\"\n",
    "    prediction /= prediction.sum()\n",
    "    #print(prediction)\n",
    "    best_candidate_index = prediction.argmax()\n",
    "    best_candidate_probability = prediction[best_candidate_index]\n",
    "    t3 = timer()\n",
    "    if(best_candidate_probability > 0.7): # treshold\n",
    "        word = index2word[best_candidate_index]\n",
    "        if( (timer()-last_recognition_time)>recognition_timeout or word!=last_recognized_word ):\n",
    "            last_recognition_time = timer()\n",
    "            last_recognized_word = word\n",
    "            clear_output(wait=True) # clear ouput as soon as new output is available to replace it\n",
    "            print(\"%s\\t:\\t%2.1f%%\" % (word, best_candidate_probability*100))\n",
    "            print(\"-----------------------------\")"
   ]
  },
  {
   "cell_type": "code",
   "execution_count": 31,
   "metadata": {},
   "outputs": [
    {
     "name": "stdout",
     "output_type": "stream",
     "text": [
      "up\t:\t95.0%\n",
      "-----------------------------\n"
     ]
    }
   ],
   "source": [
    "# REALTIME KEYWORD RECOGNITION DEMO (60s long)\n",
    "with sd.InputStream(samplerate=16000, blocksize=3200, device=None, channels=1, dtype=\"float32\", callback=audio_stream_callback):\n",
    "    sd.sleep(10*1000)"
   ]
  },
  {
   "cell_type": "markdown",
   "metadata": {},
   "source": [
    "## TF Lite converter"
   ]
  },
  {
   "cell_type": "code",
   "execution_count": 27,
   "metadata": {},
   "outputs": [],
   "source": [
    "from tflite_support.metadata_writers import audio_classifier\n",
    "from tflite_support.metadata_writers import metadata_info\n",
    "from tflite_support.metadata_writers import writer_utils"
   ]
  },
  {
   "cell_type": "code",
   "execution_count": 28,
   "metadata": {},
   "outputs": [],
   "source": [
    "word2index = [\n",
    "    # core words\n",
    "    \"zero\",\n",
    "    \"one\",\n",
    "    \"two\",\n",
    "    \"three\",\n",
    "    \"four\",\n",
    "    \"five\",\n",
    "    \"six\",\n",
    "    \"seven\",\n",
    "    \"eight\",\n",
    "    \"nine\",\n",
    "    \"open\",\n",
    "    \"close\",\n",
    "    \"digit\",\n",
    "    \"start\",\n",
    "    \"stop\",\n",
    "    \"yes\",\n",
    "    \"no\",\n",
    "    \"up\",\n",
    "    \"down\",\n",
    "    \"move\",\n",
    "]"
   ]
  },
  {
   "cell_type": "code",
   "execution_count": 29,
   "metadata": {},
   "outputs": [],
   "source": [
    "textfile = open(\"label.txt\", \"w\")\n",
    "for element in word2index:\n",
    "    textfile.write(element + \"\\n\")\n",
    "textfile.close()"
   ]
  },
  {
   "cell_type": "code",
   "execution_count": null,
   "metadata": {},
   "outputs": [],
   "source": [
    "import tensorflow as tf\n",
    "# Convert the model.\n",
    "converter = tf.lite.TFLiteConverter.from_keras_model(model)\n",
    "tflite_model = converter.convert()\n",
    "\n",
    "# Save the model.\n",
    "with open('model_audio_inggris_contoh.tflite', 'wb') as f:\n",
    "  f.write(tflite_model)"
   ]
  },
  {
   "cell_type": "code",
   "execution_count": null,
   "metadata": {},
   "outputs": [
    {
     "name": "stdout",
     "output_type": "stream",
     "text": [
      "{\n",
      "  \"name\": \"AudioClassifier\",\n",
      "  \"description\": \"Identify the most prominent type in the audio clip from a known set of categories.\",\n",
      "  \"subgraph_metadata\": [\n",
      "    {\n",
      "      \"input_tensor_metadata\": [\n",
      "        {\n",
      "          \"name\": \"audio_clip\",\n",
      "          \"description\": \"Input audio clip to be classified.\",\n",
      "          \"content\": {\n",
      "            \"content_properties_type\": \"AudioProperties\",\n",
      "            \"content_properties\": {\n",
      "              \"sample_rate\": 16000,\n",
      "              \"channels\": 1\n",
      "            }\n",
      "          },\n",
      "          \"stats\": {\n",
      "          }\n",
      "        }\n",
      "      ],\n",
      "      \"output_tensor_metadata\": [\n",
      "        {\n",
      "          \"name\": \"probability\",\n",
      "          \"description\": \"Scores of the labels respectively.\",\n",
      "          \"content\": {\n",
      "            \"content_properties_type\": \"FeatureProperties\",\n",
      "            \"content_properties\": {\n",
      "            }\n",
      "          },\n",
      "          \"stats\": {\n",
      "            \"max\": [\n",
      "              1.0\n",
      "            ],\n",
      "            \"min\": [\n",
      "              0.0\n",
      "            ]\n",
      "          },\n",
      "          \"associated_files\": [\n",
      "            {\n",
      "              \"name\": \"label.txt\",\n",
      "              \"description\": \"Labels for categories that the model can recognize.\",\n",
      "              \"type\": \"TENSOR_AXIS_LABELS\"\n",
      "            }\n",
      "          ]\n",
      "        }\n",
      "      ]\n",
      "    }\n",
      "  ]\n",
      "}\n",
      "\n"
     ]
    }
   ],
   "source": [
    "AudioClassifierWriter = audio_classifier.MetadataWriter\n",
    "_MODEL_PATH = \"model_audio_inggris_contoh.tflite\"\n",
    "# Task Library expects label files that are in the same format as the one below.\n",
    "_LABEL_FILE = \"label.txt\"\n",
    "# Expected sampling rate of the input audio buffer.\n",
    "_SAMPLE_RATE = 16000\n",
    "# Expected number of channels of the input audio buffer. Note, Task library only\n",
    "# support single channel so far.\n",
    "_CHANNELS = 1\n",
    "_SAVE_TO_PATH = \"model_audio_inggris_metadata.tflite\"\n",
    "\n",
    "# Create the metadata writer.\n",
    "writer = AudioClassifierWriter.create_for_inference(\n",
    "    writer_utils.load_file(_MODEL_PATH), _SAMPLE_RATE, _CHANNELS, [_LABEL_FILE])\n",
    "\n",
    "# Verify the metadata generated by metadata writer.\n",
    "print(writer.get_metadata_json())\n",
    "\n",
    "# Populate the metadata into the model.\n",
    "writer_utils.save_file(writer.populate(), _SAVE_TO_PATH)"
   ]
  }
 ],
 "metadata": {
  "interpreter": {
   "hash": "43caff52e87f02ef99b34a0f0ed5a274e8c50157ad059b27d6a7c537cf3f8a5d"
  },
  "kernelspec": {
   "display_name": "Python 3.6.13",
   "language": "python",
   "name": "python3"
  },
  "language_info": {
   "codemirror_mode": {
    "name": "ipython",
    "version": 3
   },
   "file_extension": ".py",
   "mimetype": "text/x-python",
   "name": "python",
   "nbconvert_exporter": "python",
   "pygments_lexer": "ipython3",
   "version": "3.6.13"
  }
 },
 "nbformat": 4,
 "nbformat_minor": 4
}
